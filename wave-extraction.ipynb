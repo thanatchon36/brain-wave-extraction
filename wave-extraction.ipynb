{
 "cells": [
  {
   "cell_type": "code",
   "execution_count": 7,
   "metadata": {},
   "outputs": [
    {
     "name": "stdout",
     "output_type": "stream",
     "text": [
      "OK !\n"
     ]
    }
   ],
   "source": [
    "from moviepy.editor import AudioFileClip, concatenate_audioclips\n",
    "from scipy.io import wavfile\n",
    "import numpy as np\n",
    "import itertools\n",
    "import os\n",
    "\n",
    "print('OK !')"
   ]
  },
  {
   "cell_type": "code",
   "execution_count": 8,
   "metadata": {},
   "outputs": [
    {
     "name": "stdout",
     "output_type": "stream",
     "text": [
      "OK !\n"
     ]
    }
   ],
   "source": [
    "def improveloop(x0, a, b, sr=44100, w1=0.010, w2=0.100):\n",
    "    \"\"\"\n",
    "    Input:  (a, b) is a loop\n",
    "    Output: (a, B) is a better loop \n",
    "            distance (the less the distance the better the loop)\n",
    "    This function moves the loop's endpoint b to B (up to 100 ms further) such that (a, B) is a \"better\" loop, i.e. sum((x0[a:a+10ms] - x0[B:B+10ms])^2) is minimal\n",
    "    \"\"\"\n",
    "\n",
    "    W1 = int(w1*sr)\n",
    "    W2 = int(w2*sr)\n",
    "    x = x0[a:a+W1]\n",
    "    y = x0[b:b+W2]\n",
    "    delta = np.sum(x**2) - 2*np.correlate(y, x) + np.correlate(y**2, np.ones_like(x))\n",
    "    K = np.argmin(delta)\n",
    "    B = K + b\n",
    "    distance = delta[K]\n",
    "\n",
    "    return a, B, distance\n",
    "\n",
    "def seamless_loop(wave_file, shortest_th = 0):\n",
    "    sr, x = wavfile.read(wave_file)\n",
    "    x0 = x if x.ndim == 1 else x[:, 0]\n",
    "    x0 = np.asarray(x0, dtype=np.float32)\n",
    "    \n",
    "    error = False\n",
    "    times = 0\n",
    "    while not error:\n",
    "        times+=1\n",
    "        try:\n",
    "            A = [int((2 + 0.25 * k) * sr) for k in range(times)]\n",
    "            dist = np.inf\n",
    "            for a, b in itertools.product(A, A):  # cartesian product: pairs (a, b) of points on the grid\n",
    "                if b - a < 1 * sr:\n",
    "                    continue\n",
    "                a, B, d = improveloop(x0, a, b, sr=sr)\n",
    "                if d < dist:\n",
    "                    aa = a\n",
    "                    BB = B\n",
    "                    dist = d\n",
    "        except:\n",
    "            error = True\n",
    "\n",
    "    valid_times = times-1\n",
    "    d_dict = {}\n",
    "    d_list = []\n",
    "\n",
    "    A = [int((2 + 0.25 * k) * sr) for k in range(valid_times)]\n",
    "    dist = np.inf\n",
    "    for a, b in itertools.product(A, A):  # cartesian product: pairs (a, b) of points on the grid\n",
    "        if b - a < 1 * sr:\n",
    "            continue\n",
    "        a, B, d = improveloop(x0, a, b, sr=sr)\n",
    "#         print( 'Loop (%.3f, %.3f) improved to (%.3fs, %.3fs), distance: %i' % \n",
    "#             (a * 1.0 / sr, b * 1.0 / sr, a * 1.0 / sr, B * 1.0 / sr, d))\n",
    "        d_list.append(d)\n",
    "        d_dict[d] = (a * 1.0 / sr,B * 1.0 / sr)\n",
    "\n",
    "        if d < dist:\n",
    "            aa = a\n",
    "            BB = B\n",
    "            dist = d\n",
    "    d_list.sort()\n",
    "    return d_dict[d_list[shortest_th]]\n",
    "print('OK !')"
   ]
  },
  {
   "cell_type": "code",
   "execution_count": 9,
   "metadata": {},
   "outputs": [
    {
     "name": "stdout",
     "output_type": "stream",
     "text": [
      "OK !\n"
     ]
    }
   ],
   "source": [
    "def wave_extraction(start_sec, end_sec, export_file, seconds, volume_up = 1):\n",
    "    audio_file = \"data/Neorhythm - User Guide - How to use Test Tube.webm\"\n",
    "    audioclip = AudioFileClip(audio_file)\n",
    "\n",
    "    enhance_mental_capacity = audioclip.subclip(start_sec, end_sec)\n",
    "    # enhance_mental_capacity.preview()\n",
    "    enhance_mental_capacity.write_audiofile(\"data/temp.wav\")\n",
    "    loop_interval = seamless_loop(\"data/temp.wav\")\n",
    "    os.remove(\"data/temp.wav\")\n",
    "\n",
    "    seemless_enhance_mental_capacity = enhance_mental_capacity.subclip(loop_interval[0], loop_interval[1])\n",
    "#     seemless_enhance_mental_capacity.preview()\n",
    "    loop_no = int((seconds / seemless_enhance_mental_capacity.duration) + 1)\n",
    "    loop_clip = [seemless_enhance_mental_capacity for each in range(loop_no)]\n",
    "    full_clip = concatenate_audioclips(loop_clip).volumex(volume_up)\n",
    "\n",
    "    full_clip.write_audiofile(export_file)\n",
    "    audioclip.close()\n",
    "    print('Export Completed !')\n",
    "print('OK !')"
   ]
  },
  {
   "cell_type": "code",
   "execution_count": 10,
   "metadata": {},
   "outputs": [
    {
     "name": "stderr",
     "output_type": "stream",
     "text": [
      "                                                                  "
     ]
    },
    {
     "name": "stdout",
     "output_type": "stream",
     "text": [
      "MoviePy - Writing audio in data/temp.wav\n",
      "MoviePy - Done.\n"
     ]
    },
    {
     "name": "stderr",
     "output_type": "stream",
     "text": [
      "chunk:   0%|          | 7/39722 [00:00<09:56, 66.61it/s, now=None]"
     ]
    },
    {
     "name": "stdout",
     "output_type": "stream",
     "text": [
      "MoviePy - Writing audio in data/30min_enhance_mental_capacity.mp3\n"
     ]
    },
    {
     "name": "stderr",
     "output_type": "stream",
     "text": [
      "                                                                      "
     ]
    },
    {
     "name": "stdout",
     "output_type": "stream",
     "text": [
      "MoviePy - Done.\n",
      "Export Completed !\n",
      "CPU times: user 10min 59s, sys: 22 s, total: 11min 21s\n",
      "Wall time: 12min 22s\n"
     ]
    },
    {
     "name": "stderr",
     "output_type": "stream",
     "text": [
      "\r"
     ]
    }
   ],
   "source": [
    "#enhance_mental_capacity\n",
    "%time wave_extraction(56.0, 62.5,\"data/30min_enhance_mental_capacity.mp3\", 1800)"
   ]
  },
  {
   "cell_type": "code",
   "execution_count": 11,
   "metadata": {},
   "outputs": [
    {
     "name": "stdout",
     "output_type": "stream",
     "text": [
      "MoviePy - Writing audio in data/temp.wav\n"
     ]
    },
    {
     "name": "stderr",
     "output_type": "stream",
     "text": [
      "                                                                 \r"
     ]
    },
    {
     "name": "stdout",
     "output_type": "stream",
     "text": [
      "MoviePy - Done.\n"
     ]
    },
    {
     "name": "stderr",
     "output_type": "stream",
     "text": [
      "chunk:   0%|          | 10/39712 [00:00<07:15, 91.14it/s, now=None]"
     ]
    },
    {
     "name": "stdout",
     "output_type": "stream",
     "text": [
      "MoviePy - Writing audio in data/30min_energy_and_vitality.mp3\n"
     ]
    },
    {
     "name": "stderr",
     "output_type": "stream",
     "text": [
      "                                                                      "
     ]
    },
    {
     "name": "stdout",
     "output_type": "stream",
     "text": [
      "MoviePy - Done.\n",
      "Export Completed !\n",
      "CPU times: user 9min 49s, sys: 25.4 s, total: 10min 15s\n",
      "Wall time: 12min 44s\n"
     ]
    },
    {
     "name": "stderr",
     "output_type": "stream",
     "text": [
      "\r"
     ]
    }
   ],
   "source": [
    "#energy_and_vitality\n",
    "%time wave_extraction(66.4, 71.8,\"data/30min_energy_and_vitality.mp3\", 1800)"
   ]
  },
  {
   "cell_type": "code",
   "execution_count": 12,
   "metadata": {},
   "outputs": [
    {
     "name": "stderr",
     "output_type": "stream",
     "text": [
      "                                                                  "
     ]
    },
    {
     "name": "stdout",
     "output_type": "stream",
     "text": [
      "MoviePy - Writing audio in data/temp.wav\n"
     ]
    },
    {
     "name": "stderr",
     "output_type": "stream",
     "text": [
      "\r"
     ]
    },
    {
     "name": "stdout",
     "output_type": "stream",
     "text": [
      "MoviePy - Done.\n"
     ]
    },
    {
     "name": "stderr",
     "output_type": "stream",
     "text": [
      "chunk:   0%|          | 8/39703 [00:00<08:16, 79.95it/s, now=None]"
     ]
    },
    {
     "name": "stdout",
     "output_type": "stream",
     "text": [
      "MoviePy - Writing audio in data/30min_deep_relaxation.mp3\n"
     ]
    },
    {
     "name": "stderr",
     "output_type": "stream",
     "text": [
      "                                                                      "
     ]
    },
    {
     "name": "stdout",
     "output_type": "stream",
     "text": [
      "MoviePy - Done.\n",
      "Export Completed !\n",
      "CPU times: user 10min 9s, sys: 20.7 s, total: 10min 29s\n",
      "Wall time: 11min 57s\n"
     ]
    },
    {
     "name": "stderr",
     "output_type": "stream",
     "text": [
      "\r"
     ]
    }
   ],
   "source": [
    "#deep_relaxation\n",
    "%time wave_extraction(76.5, 82.5,\"data/30min_deep_relaxation.mp3\", 1800)"
   ]
  },
  {
   "cell_type": "code",
   "execution_count": null,
   "metadata": {},
   "outputs": [],
   "source": [
    "#improved_sleep\n",
    "%time wave_extraction(87, 92,\"data/20min_improved_sleep.mp3\", 1200)"
   ]
  },
  {
   "cell_type": "code",
   "execution_count": null,
   "metadata": {},
   "outputs": [],
   "source": [
    "#pain_control\n",
    "%time wave_extraction(97.5, 100.7,\"data/40min_pain_control.mp3\", 2400)"
   ]
  },
  {
   "cell_type": "code",
   "execution_count": 13,
   "metadata": {},
   "outputs": [
    {
     "name": "stderr",
     "output_type": "stream",
     "text": [
      "\r",
      "chunk:   0%|          | 0/111 [00:00<?, ?it/s, now=None]"
     ]
    },
    {
     "name": "stdout",
     "output_type": "stream",
     "text": [
      "MoviePy - Writing audio in data/temp.wav\n"
     ]
    },
    {
     "name": "stderr",
     "output_type": "stream",
     "text": [
      "                                                                  "
     ]
    },
    {
     "name": "stdout",
     "output_type": "stream",
     "text": [
      "MoviePy - Done.\n"
     ]
    },
    {
     "name": "stderr",
     "output_type": "stream",
     "text": [
      "chunk:   0%|          | 0/39712 [00:00<?, ?it/s, now=None]"
     ]
    },
    {
     "name": "stdout",
     "output_type": "stream",
     "text": [
      "MoviePy - Writing audio in data/30min_meditation_theta.mp3\n"
     ]
    },
    {
     "name": "stderr",
     "output_type": "stream",
     "text": [
      "                                                                      "
     ]
    },
    {
     "name": "stdout",
     "output_type": "stream",
     "text": [
      "MoviePy - Done.\n",
      "Export Completed !\n",
      "CPU times: user 11min 59s, sys: 20.7 s, total: 12min 20s\n",
      "Wall time: 12min 13s\n"
     ]
    },
    {
     "name": "stderr",
     "output_type": "stream",
     "text": [
      "\r"
     ]
    }
   ],
   "source": [
    "#meditation_theta\n",
    "%time wave_extraction(106, 111,\"data/30min_meditation_theta.mp3\", 1800)"
   ]
  },
  {
   "cell_type": "code",
   "execution_count": 14,
   "metadata": {},
   "outputs": [
    {
     "name": "stderr",
     "output_type": "stream",
     "text": [
      "                                                       \r"
     ]
    },
    {
     "name": "stdout",
     "output_type": "stream",
     "text": [
      "MoviePy - Writing audio in data/temp.wav\n",
      "MoviePy - Done.\n"
     ]
    },
    {
     "name": "stderr",
     "output_type": "stream",
     "text": [
      "\r",
      "chunk:   0%|          | 0/39691 [00:00<?, ?it/s, now=None]"
     ]
    },
    {
     "name": "stdout",
     "output_type": "stream",
     "text": [
      "MoviePy - Writing audio in data/30min_meditation_calming_synchronization.mp3\n"
     ]
    },
    {
     "name": "stderr",
     "output_type": "stream",
     "text": [
      "                                                                      "
     ]
    },
    {
     "name": "stdout",
     "output_type": "stream",
     "text": [
      "MoviePy - Done.\n",
      "Export Completed !\n",
      "CPU times: user 12min 8s, sys: 21.4 s, total: 12min 29s\n",
      "Wall time: 12min 31s\n"
     ]
    },
    {
     "name": "stderr",
     "output_type": "stream",
     "text": [
      "\r"
     ]
    }
   ],
   "source": [
    "#meditation_calming_synchronization\n",
    "%time wave_extraction(117, 121,\"data/30min_meditation_calming_synchronization.mp3\", 1800)"
   ]
  },
  {
   "cell_type": "code",
   "execution_count": null,
   "metadata": {},
   "outputs": [],
   "source": [
    "#emptyclip\n",
    "emptyclip = AudioFileClip('data/5-minutes-of-silence.mp3')\n",
    "emptyclip.write_audiofile('data/5min_empty.mp3')\n",
    "emptyclip.close()"
   ]
  },
  {
   "cell_type": "code",
   "execution_count": 2,
   "metadata": {},
   "outputs": [],
   "source": [
    "improved_sleep_20min = AudioFileClip('data/20min_improved_sleep.mp3')\n",
    "emptyclip_5min = AudioFileClip('data/5min_empty.mp3')"
   ]
  },
  {
   "cell_type": "code",
   "execution_count": 3,
   "metadata": {},
   "outputs": [],
   "source": [
    "flag_8hr = False\n",
    "loop_clip = [improved_sleep_20min]\n",
    "while not flag_8hr:\n",
    "    if concatenate_audioclips(loop_clip).duration < 28800:\n",
    "        loop_clip = loop_clip + [emptyclip_5min] + [improved_sleep_20min]\n",
    "    else:\n",
    "        flag_8hr = True\n"
   ]
  },
  {
   "cell_type": "code",
   "execution_count": 4,
   "metadata": {},
   "outputs": [
    {
     "data": {
      "text/plain": [
       "28800"
      ]
     },
     "execution_count": 4,
     "metadata": {},
     "output_type": "execute_result"
    }
   ],
   "source": [
    "full_clip = concatenate_audioclips(loop_clip).subclip(0, 28800)\n",
    "full_clip.duration"
   ]
  },
  {
   "cell_type": "code",
   "execution_count": 5,
   "metadata": {},
   "outputs": [
    {
     "name": "stderr",
     "output_type": "stream",
     "text": [
      "chunk:   0%|          | 42/635041 [00:00<26:06, 405.37it/s, now=None]"
     ]
    },
    {
     "name": "stdout",
     "output_type": "stream",
     "text": [
      "MoviePy - Writing audio in data/8hr_improved_sleep.mp3\n"
     ]
    },
    {
     "name": "stderr",
     "output_type": "stream",
     "text": [
      "                                                                         \r"
     ]
    },
    {
     "name": "stdout",
     "output_type": "stream",
     "text": [
      "MoviePy - Done.\n",
      "CPU times: user 11min 15s, sys: 34.9 s, total: 11min 50s\n",
      "Wall time: 23min 6s\n"
     ]
    }
   ],
   "source": [
    "%time full_clip.write_audiofile('data/8hr_improved_sleep.mp3')\n",
    "emptyclip_5min.close()\n",
    "improved_sleep_20min.close()"
   ]
  }
 ],
 "metadata": {
  "kernelspec": {
   "display_name": "py36",
   "language": "python",
   "name": "py36"
  },
  "language_info": {
   "codemirror_mode": {
    "name": "ipython",
    "version": 3
   },
   "file_extension": ".py",
   "mimetype": "text/x-python",
   "name": "python",
   "nbconvert_exporter": "python",
   "pygments_lexer": "ipython3",
   "version": "3.6.8"
  }
 },
 "nbformat": 4,
 "nbformat_minor": 2
}
