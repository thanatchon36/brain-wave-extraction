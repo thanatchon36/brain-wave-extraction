{
 "cells": [
  {
   "cell_type": "code",
   "execution_count": null,
   "metadata": {},
   "outputs": [],
   "source": [
    "from moviepy.editor import AudioFileClip, concatenate_audioclips\n",
    "from scipy.io import wavfile\n",
    "import numpy as np\n",
    "import itertools\n",
    "import os\n",
    "\n",
    "print('OK !')"
   ]
  },
  {
   "cell_type": "code",
   "execution_count": null,
   "metadata": {},
   "outputs": [],
   "source": [
    "def improveloop(x0, a, b, sr=44100, w1=0.010, w2=0.100):\n",
    "    \"\"\"\n",
    "    Input:  (a, b) is a loop\n",
    "    Output: (a, B) is a better loop \n",
    "            distance (the less the distance the better the loop)\n",
    "    This function moves the loop's endpoint b to B (up to 100 ms further) such that (a, B) is a \"better\" loop, i.e. sum((x0[a:a+10ms] - x0[B:B+10ms])^2) is minimal\n",
    "    \"\"\"\n",
    "\n",
    "    W1 = int(w1*sr)\n",
    "    W2 = int(w2*sr)\n",
    "    x = x0[a:a+W1]\n",
    "    y = x0[b:b+W2]\n",
    "    delta = np.sum(x**2) - 2*np.correlate(y, x) + np.correlate(y**2, np.ones_like(x))\n",
    "    K = np.argmin(delta)\n",
    "    B = K + b\n",
    "    distance = delta[K]\n",
    "\n",
    "    return a, B, distance\n",
    "\n",
    "def seamless_loop(wave_file, shortest_th = 0):\n",
    "    sr, x = wavfile.read(wave_file)\n",
    "    x0 = x if x.ndim == 1 else x[:, 0]\n",
    "    x0 = np.asarray(x0, dtype=np.float32)\n",
    "    \n",
    "    error = False\n",
    "    times = 0\n",
    "    while not error:\n",
    "        times+=1\n",
    "        try:\n",
    "            A = [int((2 + 0.25 * k) * sr) for k in range(times)]\n",
    "            dist = np.inf\n",
    "            for a, b in itertools.product(A, A):  # cartesian product: pairs (a, b) of points on the grid\n",
    "                if b - a < 1 * sr:\n",
    "                    continue\n",
    "                a, B, d = improveloop(x0, a, b, sr=sr)\n",
    "                if d < dist:\n",
    "                    aa = a\n",
    "                    BB = B\n",
    "                    dist = d\n",
    "        except:\n",
    "            error = True\n",
    "\n",
    "    valid_times = times-1\n",
    "    d_dict = {}\n",
    "    d_list = []\n",
    "\n",
    "    A = [int((2 + 0.25 * k) * sr) for k in range(valid_times)]\n",
    "    dist = np.inf\n",
    "    for a, b in itertools.product(A, A):  # cartesian product: pairs (a, b) of points on the grid\n",
    "        if b - a < 1 * sr:\n",
    "            continue\n",
    "        a, B, d = improveloop(x0, a, b, sr=sr)\n",
    "#         print( 'Loop (%.3f, %.3f) improved to (%.3fs, %.3fs), distance: %i' % \n",
    "#             (a * 1.0 / sr, b * 1.0 / sr, a * 1.0 / sr, B * 1.0 / sr, d))\n",
    "        d_list.append(d)\n",
    "        d_dict[d] = (a * 1.0 / sr,B * 1.0 / sr)\n",
    "\n",
    "        if d < dist:\n",
    "            aa = a\n",
    "            BB = B\n",
    "            dist = d\n",
    "    d_list.sort()\n",
    "    return d_dict[d_list[shortest_th]]\n",
    "print('OK !')"
   ]
  },
  {
   "cell_type": "code",
   "execution_count": null,
   "metadata": {},
   "outputs": [],
   "source": [
    "def wave_extraction(start_sec, end_sec, export_file, seconds):\n",
    "    audio_file = \"data/Neorhythm - User Guide - How to use Test Tube.webm\"\n",
    "    audioclip = AudioFileClip(audio_file)\n",
    "\n",
    "    enhance_mental_capacity = audioclip.subclip(start_sec, end_sec)\n",
    "    # enhance_mental_capacity.preview()\n",
    "    enhance_mental_capacity.write_audiofile(\"data/temp.wav\")\n",
    "    loop_interval = seamless_loop(\"data/temp.wav\")\n",
    "    os.remove(\"data/temp.wav\")\n",
    "\n",
    "    seemless_enhance_mental_capacity = enhance_mental_capacity.subclip(loop_interval[0], loop_interval[1])\n",
    "#     seemless_enhance_mental_capacity.preview()\n",
    "    loop_no = int((seconds / seemless_enhance_mental_capacity.duration) + 1)\n",
    "    loop_clip = [seemless_enhance_mental_capacity for each in range(loop_no)]\n",
    "    full_clip = concatenate_audioclips(loop_clip)\n",
    "\n",
    "    full_clip.write_audiofile(export_file)\n",
    "    audioclip.close()\n",
    "    print('Export Completed !')\n",
    "print('OK !')"
   ]
  },
  {
   "cell_type": "code",
   "execution_count": null,
   "metadata": {},
   "outputs": [],
   "source": [
    "#enhance_mental_capacity\n",
    "%time wave_extraction(56.0, 62.5,\"data/enhance_mental_capacity.mp3\", 30)"
   ]
  },
  {
   "cell_type": "code",
   "execution_count": null,
   "metadata": {},
   "outputs": [],
   "source": [
    "#energy_and_vitality\n",
    "%time wave_extraction(66.4, 71.8,\"data/energy_and_vitality.mp3\", 30)"
   ]
  },
  {
   "cell_type": "code",
   "execution_count": null,
   "metadata": {},
   "outputs": [],
   "source": [
    "#deep_relaxation\n",
    "%time wave_extraction(76.5, 82.5,\"data/deep_relaxation.mp3\", 30)"
   ]
  },
  {
   "cell_type": "code",
   "execution_count": null,
   "metadata": {},
   "outputs": [],
   "source": [
    "#improved_sleep\n",
    "%time wave_extraction(87, 92,\"data/improved_sleep.mp3\", 30)"
   ]
  },
  {
   "cell_type": "code",
   "execution_count": null,
   "metadata": {},
   "outputs": [],
   "source": [
    "#pain_control\n",
    "%time wave_extraction(97.5, 100.7,\"data/pain_control.mp3\", 30)"
   ]
  },
  {
   "cell_type": "code",
   "execution_count": null,
   "metadata": {},
   "outputs": [],
   "source": [
    "#meditation_theta\n",
    "%time wave_extraction(106, 111,\"data/meditation_theta.mp3\", 30)"
   ]
  },
  {
   "cell_type": "code",
   "execution_count": null,
   "metadata": {},
   "outputs": [],
   "source": [
    "#meditation_calming_synchronization\n",
    "%time wave_extraction(117, 121,\"data/meditation_calming_synchronization.mp3\", 30)"
   ]
  }
 ],
 "metadata": {
  "kernelspec": {
   "display_name": "py36",
   "language": "python",
   "name": "py36"
  },
  "language_info": {
   "codemirror_mode": {
    "name": "ipython",
    "version": 3
   },
   "file_extension": ".py",
   "mimetype": "text/x-python",
   "name": "python",
   "nbconvert_exporter": "python",
   "pygments_lexer": "ipython3",
   "version": "3.6.8"
  }
 },
 "nbformat": 4,
 "nbformat_minor": 2
}
